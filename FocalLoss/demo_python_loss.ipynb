{
 "cells": [
  {
   "cell_type": "code",
   "execution_count": 1,
   "metadata": {},
   "outputs": [],
   "source": [
    "import numpy as np\n",
    "import torch\n",
    "import torch.nn.functional as F\n",
    "import torch.nn as nn"
   ]
  },
  {
   "cell_type": "markdown",
   "metadata": {},
   "source": [
    "# FocalLoss"
   ]
  },
  {
   "cell_type": "code",
   "execution_count": 16,
   "metadata": {},
   "outputs": [
    {
     "name": "stdout",
     "output_type": "stream",
     "text": [
      "tensor(1.00000e-02 *\n",
      "       5.6190)\n"
     ]
    },
    {
     "data": {
      "text/plain": [
       "tensor(1.00000e-02 *\n",
       "       [[[[ 0.1434,  0.6162, -0.0147],\n",
       "          [ 0.4836,  0.1553,  0.7928],\n",
       "          [-0.1711, -0.0319,  0.2181]],\n",
       "\n",
       "         [[ 1.4294,  0.8828,  1.4865],\n",
       "          [ 0.9324,  0.8405, -0.0166],\n",
       "          [ 0.2223,  0.4914,  1.3700]]]])"
      ]
     },
     "execution_count": 16,
     "metadata": {},
     "output_type": "execute_result"
    }
   ],
   "source": [
    "class FocalLoss(torch.nn.Module):\n",
    "    def __init__(self):\n",
    "        super(FocalLoss, self).__init__()\n",
    "\n",
    "    def forward(self, x, y):\n",
    "        alpha = 0.25\n",
    "        gamma = 2\n",
    "        t = y\n",
    "\n",
    "        p = x.sigmoid()\n",
    "        pt = p * t + (1 - p) * (1 - t)  # pt = p if t > 0 else 1-p\n",
    "        w = alpha * t + (1 - alpha) * (1 - t)  # w = alpha if t > 0 else 1-alpha\n",
    "        w = w * (1 - pt).pow(gamma)\n",
    "        return F.binary_cross_entropy_with_logits(x, t, w, size_average=True)\n",
    "\n",
    "criterion = FocalLoss()\n",
    "input = torch.tensor([[[[-1.1957, -0.4597,  1.6950],\n",
    "                        [-0.5970, -1.1598, -0.3070],\n",
    "                        [ 0.5639,  1.3726, -1.0021]],\n",
    "\n",
    "                       [[ 0.1081, -0.2382,  0.1398],\n",
    "                        [-0.2022, -0.2699,  1.6455],\n",
    "                        [-0.993, -0.5881,  0.0745]]]], requires_grad=True)\n",
    "target = torch.tensor([[[[ 0.,  0.,  1.],\n",
    "                         [ 0.,  0.,  0.],\n",
    "                         [ 1.,  1.,  0.]],\n",
    "\n",
    "                        [[ 0.,  0.,  0.],\n",
    "                         [ 0.,  0.,  1.],\n",
    "                         [ 0.,  0.,  0.]]]])\n",
    "output = criterion(input, target)\n",
    "output.backward()\n",
    "\n",
    "print(output)\n",
    "input.grad"
   ]
  }
 ],
 "metadata": {
  "kernelspec": {
   "display_name": "Python 3",
   "language": "python",
   "name": "python3"
  },
  "language_info": {
   "codemirror_mode": {
    "name": "ipython",
    "version": 3
   },
   "file_extension": ".py",
   "mimetype": "text/x-python",
   "name": "python",
   "nbconvert_exporter": "python",
   "pygments_lexer": "ipython3",
   "version": "3.5.2"
  }
 },
 "nbformat": 4,
 "nbformat_minor": 2
}
